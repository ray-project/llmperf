{
 "cells": [
  {
   "cell_type": "markdown",
   "id": "56950450",
   "metadata": {},
   "source": [
    "# Token Benchmark Example Analysis\n",
    "The following is an example of the analysis that can be done on individual responses that are saved when running `token_benchmark_ray.py` with the flag `--results-dir` which enables the saving of all responses."
   ]
  },
  {
   "cell_type": "code",
   "execution_count": 1,
   "id": "dacfe98a-e81b-4089-9506-97a652993b5b",
   "metadata": {
    "tags": []
   },
   "outputs": [],
   "source": [
    "import pandas as pd"
   ]
  },
  {
   "cell_type": "code",
   "execution_count": 6,
   "id": "17f7abe9-ed9e-466c-b034-577489aaf98b",
   "metadata": {
    "tags": []
   },
   "outputs": [
    {
     "data": {
      "text/html": [
       "<div>\n",
       "<style scoped>\n",
       "    .dataframe tbody tr th:only-of-type {\n",
       "        vertical-align: middle;\n",
       "    }\n",
       "\n",
       "    .dataframe tbody tr th {\n",
       "        vertical-align: top;\n",
       "    }\n",
       "\n",
       "    .dataframe thead th {\n",
       "        text-align: right;\n",
       "    }\n",
       "</style>\n",
       "<table border=\"1\" class=\"dataframe\">\n",
       "  <thead>\n",
       "    <tr style=\"text-align: right;\">\n",
       "      <th></th>\n",
       "      <th>error_code</th>\n",
       "      <th>error_msg</th>\n",
       "      <th>inter_token_latency_s</th>\n",
       "      <th>ttft_s</th>\n",
       "      <th>end_to_end_latency_s</th>\n",
       "      <th>request_output_throughput_token_per_s</th>\n",
       "      <th>number_total_tokens</th>\n",
       "      <th>number_output_tokens</th>\n",
       "      <th>number_input_tokens</th>\n",
       "    </tr>\n",
       "  </thead>\n",
       "  <tbody>\n",
       "    <tr>\n",
       "      <th>0</th>\n",
       "      <td>NaN</td>\n",
       "      <td></td>\n",
       "      <td>[0.5549881670012831, 0.0009654169989510001, 0....</td>\n",
       "      <td>0.554988</td>\n",
       "      <td>1.610734</td>\n",
       "      <td>44.079272</td>\n",
       "      <td>706</td>\n",
       "      <td>71</td>\n",
       "      <td>635</td>\n",
       "    </tr>\n",
       "    <tr>\n",
       "      <th>1</th>\n",
       "      <td>NaN</td>\n",
       "      <td></td>\n",
       "      <td>[0.6019128750049271, 0.007011749999946, 0.0144...</td>\n",
       "      <td>0.601913</td>\n",
       "      <td>1.725729</td>\n",
       "      <td>44.039357</td>\n",
       "      <td>730</td>\n",
       "      <td>76</td>\n",
       "      <td>654</td>\n",
       "    </tr>\n",
       "  </tbody>\n",
       "</table>\n",
       "</div>"
      ],
      "text/plain": [
       "   error_code error_msg                              inter_token_latency_s  \\\n",
       "0         NaN            [0.5549881670012831, 0.0009654169989510001, 0....   \n",
       "1         NaN            [0.6019128750049271, 0.007011749999946, 0.0144...   \n",
       "\n",
       "     ttft_s  end_to_end_latency_s  request_output_throughput_token_per_s  \\\n",
       "0  0.554988              1.610734                              44.079272   \n",
       "1  0.601913              1.725729                              44.039357   \n",
       "\n",
       "   number_total_tokens  number_output_tokens  number_input_tokens  \n",
       "0                  706                    71                  635  \n",
       "1                  730                    76                  654  "
      ]
     },
     "execution_count": 6,
     "metadata": {},
     "output_type": "execute_result"
    }
   ],
   "source": [
    "# path to the individual responses json file\n",
    "df = pd.read_json('/home/ray/default/llmperf/result_outputs/550_150_individual_responses.json')\n"
   ]
  },
  {
   "cell_type": "code",
   "execution_count": 12,
   "id": "565a59e4",
   "metadata": {},
   "outputs": [],
   "source": [
    "valid_df = df[(df[\"error_code\"] != \"\")]"
   ]
  },
  {
   "cell_type": "code",
   "execution_count": 13,
   "id": "102894bc",
   "metadata": {},
   "outputs": [
    {
     "data": {
      "text/html": [
       "<div>\n",
       "<style scoped>\n",
       "    .dataframe tbody tr th:only-of-type {\n",
       "        vertical-align: middle;\n",
       "    }\n",
       "\n",
       "    .dataframe tbody tr th {\n",
       "        vertical-align: top;\n",
       "    }\n",
       "\n",
       "    .dataframe thead th {\n",
       "        text-align: right;\n",
       "    }\n",
       "</style>\n",
       "<table border=\"1\" class=\"dataframe\">\n",
       "  <thead>\n",
       "    <tr style=\"text-align: right;\">\n",
       "      <th></th>\n",
       "      <th>error_code</th>\n",
       "      <th>error_msg</th>\n",
       "      <th>inter_token_latency_s</th>\n",
       "      <th>ttft_s</th>\n",
       "      <th>end_to_end_latency_s</th>\n",
       "      <th>request_output_throughput_token_per_s</th>\n",
       "      <th>number_total_tokens</th>\n",
       "      <th>number_output_tokens</th>\n",
       "      <th>number_input_tokens</th>\n",
       "    </tr>\n",
       "  </thead>\n",
       "  <tbody>\n",
       "    <tr>\n",
       "      <th>0</th>\n",
       "      <td>NaN</td>\n",
       "      <td></td>\n",
       "      <td>[0.5549881670012831, 0.0009654169989510001, 0....</td>\n",
       "      <td>0.554988</td>\n",
       "      <td>1.610734</td>\n",
       "      <td>44.079272</td>\n",
       "      <td>706</td>\n",
       "      <td>71</td>\n",
       "      <td>635</td>\n",
       "    </tr>\n",
       "    <tr>\n",
       "      <th>1</th>\n",
       "      <td>NaN</td>\n",
       "      <td></td>\n",
       "      <td>[0.6019128750049271, 0.007011749999946, 0.0144...</td>\n",
       "      <td>0.601913</td>\n",
       "      <td>1.725729</td>\n",
       "      <td>44.039357</td>\n",
       "      <td>730</td>\n",
       "      <td>76</td>\n",
       "      <td>654</td>\n",
       "    </tr>\n",
       "  </tbody>\n",
       "</table>\n",
       "</div>"
      ],
      "text/plain": [
       "   error_code error_msg                              inter_token_latency_s  \\\n",
       "0         NaN            [0.5549881670012831, 0.0009654169989510001, 0....   \n",
       "1         NaN            [0.6019128750049271, 0.007011749999946, 0.0144...   \n",
       "\n",
       "     ttft_s  end_to_end_latency_s  request_output_throughput_token_per_s  \\\n",
       "0  0.554988              1.610734                              44.079272   \n",
       "1  0.601913              1.725729                              44.039357   \n",
       "\n",
       "   number_total_tokens  number_output_tokens  number_input_tokens  \n",
       "0                  706                    71                  635  \n",
       "1                  730                    76                  654  "
      ]
     },
     "execution_count": 13,
     "metadata": {},
     "output_type": "execute_result"
    }
   ],
   "source": [
    "valid_df"
   ]
  },
  {
   "cell_type": "code",
   "execution_count": 14,
   "id": "c7519fc9",
   "metadata": {},
   "outputs": [
    {
     "name": "stdout",
     "output_type": "stream",
     "text": [
      "Mean number of input tokens: 644.5. Mean number of output tokens: 73.5\n"
     ]
    },
    {
     "data": {
      "text/plain": [
       "<Axes: title={'center': 'Number of Input Tokens vs. TTFT'}, xlabel='number_input_tokens', ylabel='ttft_s'>"
      ]
     },
     "execution_count": 14,
     "metadata": {},
     "output_type": "execute_result"
    },
    {
     "data": {
      "image/png": "[encoded data removed]",
      "text/plain": [
       "<Figure size 640x480 with 1 Axes>"
      ]
     },
     "metadata": {},
     "output_type": "display_data"
    }
   ],
   "source": [
    "final_df = pd.DataFrame()\n",
    "final_df[\"number_input_tokens\"] = valid_df[\"number_input_tokens\"]\n",
    "final_df[\"number_output_tokens\"] = valid_df[\"number_output_tokens\"]\n",
    "final_df[\"ttft_s\"] = valid_df[\"ttft_s\"]\n",
    "final_df[\"end_to_end_latency_s\"] = valid_df[\"end_to_end_latency_s\"]\n",
    "final_df[\"generation_throughput\"] = valid_df[\"request_output_throughput_token_per_s\"]\n",
    "\n",
    "mean_tokens_in = final_df[\"number_input_tokens\"].mean()\n",
    "mean_tokens_out = valid_df[\"number_output_tokens\"].mean()\n",
    "print(f\"Mean number of input tokens: {mean_tokens_in}. Mean number of output tokens: {mean_tokens_out}\")\n",
    "final_df.plot.scatter(x=\"number_input_tokens\", y=\"ttft_s\", title=\"Number of Input Tokens vs. TTFT\")"
   ]
  },
  {
   "cell_type": "code",
   "execution_count": 15,
   "id": "a14de79c",
   "metadata": {},
   "outputs": [
    {
     "data": {
      "text/plain": [
       "<Axes: title={'center': 'Token Latencies'}, ylabel='Frequency'>"
      ]
     },
     "execution_count": 15,
     "metadata": {},
     "output_type": "execute_result"
    },
    {
     "data": {
      "image/png": "[encoded data removed]",
      "text/plain": [
       "<Figure size 640x480 with 1 Axes>"
      ]
     },
     "metadata": {},
     "output_type": "display_data"
    }
   ],
   "source": [
    "all_token_latencies = valid_df['end_to_end_latency_s'].apply(pd.Series).stack()\n",
    "all_token_latencies = all_token_latencies.reset_index(drop=True)\n",
    "all_token_latencies.plot.hist(title=\"Token Latencies\")\n"
   ]
  },
  {
   "cell_type": "code",
   "execution_count": null,
   "metadata": {},
   "outputs": [],
   "source": []
  }
 ],
 "metadata": {
  "kernelspec": {
   "display_name": "Python 3 (ipykernel)",
   "language": "python",
   "name": "python3"
  },
  "language_info": {
   "codemirror_mode": {
    "name": "ipython",
    "version": 3
   },
   "file_extension": ".py",
   "mimetype": "text/x-python",
   "name": "python",
   "nbconvert_exporter": "python",
   "pygments_lexer": "ipython3",
   "version": "3.10.13"
  }
 },
 "nbformat": 4,
 "nbformat_minor": 5
}
